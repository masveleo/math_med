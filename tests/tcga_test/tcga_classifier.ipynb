{
 "cells": [
  {
   "cell_type": "code",
   "execution_count": 1,
   "metadata": {},
   "outputs": [],
   "source": [
    "# Вопросы:\n",
    "#   1. scoring - как работает, как происходит сравнение двух результатов?\n",
    "#                Что означает, скажем, такой результат:\n",
    "#\n",
    "#    - genes_all\n",
    "#      {'rf__max_depth': 8, 'rf__min_samples_leaf': 3, 'rf__n_estimators': 200}\n",
    "#      {'AUC': 0.6956898656898656, 'Balanced Accuracy': 0.6292735042735041, 'Sensivity': 0.41777777777777786, 'Specificity': 0.8407692307692308}\n",
    "#\n",
    "#    - genes_all\n",
    "#      {'rf__max_depth': 8, 'rf__min_samples_leaf': 11, 'rf__n_estimators': 200}\n",
    "#      {'AUC': 0.6942796092796091, 'Balanced Accuracy': 0.6266178266178266, 'Sensivity': 0.5144444444444445, 'Specificity': 0.7387912087912089}\n",
    "#\n",
    "#    - [\"CDK1\", \"FOXM1\", \"LRIG2\", \"PLK1\", \"RACGAP1\", \"RRM2\", \"TMPO\"]\n",
    "#      {'SVM__C': 181.01933598375618}\n",
    "#      {'AUC': 0.7315201465201464, 'Balanced Accuracy': 0.6841849816849818, 'Sensivity': 0.6366666666666666, 'Specificity': 0.7317032967032968}\n",
    "#\n",
    "#    - ['CDK1', 'FOXM1', 'PLK1', 'RACGAP1', 'RRM2', 'TMPO']\n",
    "#      {'SVM__C': 10.079368399158989}\n",
    "#      {'AUC': 0.7411355311355311, 'Balanced Accuracy': 0.6983943833943833, 'Sensivity': 0.6377777777777777, 'Specificity': 0.7590109890109891}\n",
    "#\n",
    "#    - Reference (SVM): \n",
    "#      {'SVM__C': 16.0}\n",
    "#      {'AUC': 0.721019536019536, 'Balanced Accuracy': 0.673397435897436, 'Sensivity': 0.6233333333333334, 'Specificity': 0.7234615384615385}\n",
    "#\n",
    "#   2. Как именно вычисляется AUC? (свободный член -inf; +inf)\n",
    "#   3. Насколько надежна проверка RepeatedStratifiedKFold?   n_repeats > 100, std(scoring)\n",
    "#      Нужно ли подвергать ее сомнению? \n",
    "#      Нужно ли как-то разбивать данные по группам?\n",
    "#   4. Важны ли матожидания экспрессий с биологической точки зрения? (scaler)\n",
    "#   5. Является ли набор TCGA.tsv однородным? (ответ: да)"
   ]
  },
  {
   "cell_type": "code",
   "execution_count": 7,
   "metadata": {},
   "outputs": [],
   "source": [
    "import pandas as pd\n",
    "import numpy as np\n",
    "\n",
    "from sklearn.model_selection import *\n",
    "from sklearn.metrics import *\n",
    "from sklearn.preprocessing import *\n",
    "\n",
    "from sklearn.pipeline import Pipeline\n",
    "from sklearn.svm import SVC, LinearSVC\n",
    "import xgboost as xgb\n",
    "\n",
    "from sklearn.tree  import DecisionTreeClassifier\n",
    "from sklearn.ensemble import RandomForestClassifier\n",
    "from sklearn.ensemble import GradientBoostingClassifier"
   ]
  },
  {
   "cell_type": "code",
   "execution_count": 3,
   "metadata": {},
   "outputs": [],
   "source": [
    "# helper function - true-positive rate \n",
    "def TPR(y_true, y_pred):\n",
    "    M = confusion_matrix(y_true, y_pred)\n",
    "    TN, FP, FN, TP = M[0, 0], M[0, 1], M[1, 0], M[1, 1]\n",
    "    return TP / (TP + FN)\n",
    "\n",
    "# helper function - true-negative rate \n",
    "def TNR(y_true, y_pred):\n",
    "    M = confusion_matrix(y_true, y_pred)\n",
    "    TN, FP, FN, TP = M[0, 0], M[0, 1], M[1, 0], M[1, 1]\n",
    "    return TN / (TN + FP)\n",
    "\n",
    "# scoring values\n",
    "scoring = {\n",
    "    \"AUC\": \"roc_auc\",\n",
    "    \"Balanced Accuracy\": \"balanced_accuracy\",\n",
    "    \"Sensivity\": make_scorer(TPR),\n",
    "    \"Specificity\": make_scorer(TNR),\n",
    "}"
   ]
  },
  {
   "cell_type": "code",
   "execution_count": 4,
   "metadata": {},
   "outputs": [
    {
     "name": "stdout",
     "output_type": "stream",
     "text": [
      "df shape = (111, 13519)\n",
      "\n"
     ]
    }
   ],
   "source": [
    "# Load TCGA RNA-seq data\n",
    "df = pd.read_csv(\"../../data/breast_cancer/TCGA.tsv\", sep=\"\\t\", index_col=0)\n",
    "print((\"df shape = {}\\n\").format( df.shape) )\n",
    "#print( df[0:10])\n"
   ]
  },
  {
   "cell_type": "code",
   "execution_count": 37,
   "metadata": {},
   "outputs": [],
   "source": [
    "# Take gene subset (or all genes)\n",
    "# reference scenario\n",
    "genes = [\"CDK1\", \"FOXM1\", \"LRIG2\", \"MSH2\", \"PLK1\", \"RACGAP1\", \"RRM2\", \"TMPO\"]\n",
    "\n",
    "# other variants\n",
    "#genes = [\"CDK1\", \"FOXM1\", \"LRIG2\", \"PLK1\", \"RACGAP1\", \"RRM2\", \"TMPO\"]\n",
    "#genes = [\"SHOX2\", \"ETNPPL\", \"FGF14\"]\n",
    "# genes = list( df.columns.values)  # all available genes\n",
    "\n",
    "# Form data\n",
    "X = df[genes].to_numpy()\n",
    "y = df[\"Class\"].to_numpy()"
   ]
  },
  {
   "cell_type": "code",
   "execution_count": 45,
   "metadata": {},
   "outputs": [],
   "source": [
    "# classification algo and params_for_opt\n",
    "#--------------------------------------------------\n",
    "\n",
    "# 1. SVM\n",
    "#clfr = (\"SVM\", SVC(kernel=\"linear\", class_weight=\"balanced\"))\n",
    "#opt_params = {\"SVM__C\": np.logspace(-4, 4, 9, base=4)}\n",
    "\n",
    "# 2. Random Forest\n",
    "#clfr = (\"rf\", RandomForestClassifier( class_weight=\"balanced\" ))\n",
    "#opt_params = {\n",
    "#    \"rf__n_estimators\": [200, 400, 600],\n",
    "#    \"rf__max_depth\": [10, 20],\n",
    "#    \"rf__min_samples_leaf\": [7]\n",
    "#}\n",
    "\n",
    "# 3. Decision Tree\n",
    "#clfr = (\"dt\", DecisionTreeClassifier( class_weight=\"balanced\" ))\n",
    "#opt_params = {\n",
    "#    \"dt__max_depth\": [5, 10, 20]\n",
    "#}\n",
    "\n",
    "# 4. GBDT\n",
    "clfr = (\"gdt\", GradientBoostingClassifier() )\n",
    "opt_params = {\n",
    "    \"gdt__max_depth\": [ 6 ],\n",
    "    \"gdt__n_estimators\": [100]\n",
    "}\n"
   ]
  },
  {
   "cell_type": "code",
   "execution_count": 46,
   "metadata": {},
   "outputs": [],
   "source": [
    "# Establish a classification pipeline\n",
    "scaler = StandardScaler()\n",
    "classifier = Pipeline([\n",
    "   (\"scaler\", scaler),\n",
    "   clfr ])"
   ]
  },
  {
   "cell_type": "code",
   "execution_count": 47,
   "metadata": {},
   "outputs": [
    {
     "name": "stdout",
     "output_type": "stream",
     "text": [
      "{'gdt__max_depth': 6, 'gdt__n_estimators': 100}\n",
      "{'AUC': 0.5154253154253153, 'Balanced Accuracy': 0.5250915750915751, 'Sensivity': 0.4, 'Specificity': 0.6501831501831503}\n"
     ]
    }
   ],
   "source": [
    "# Optimization cylce\n",
    "splitter = RepeatedStratifiedKFold(n_splits=5, n_repeats=3)\n",
    "\n",
    "CV = GridSearchCV( \n",
    "    classifier,\n",
    "    opt_params,\n",
    "    scoring=scoring,\n",
    "    cv=splitter,\n",
    "    refit=False)\n",
    "CV.fit(X, y)\n",
    "\n",
    "# Infer best parameter\n",
    "mean_test_scoring_values = {s: CV.cv_results_[\"mean_test_\" + s] for s in scoring}\n",
    "max_BA_index = np.argmax(mean_test_scoring_values[\"Sensivity\"])\n",
    "best_scores = {s: mean_test_scoring_values[s][max_BA_index] for s in scoring}\n",
    "\n",
    "# print best model parameters and score\n",
    "#print( genes )\n",
    "print( CV.cv_results_[\"params\"][max_BA_index] )\n",
    "print({s: mean_test_scoring_values[s][max_BA_index] for s in scoring})"
   ]
  }
 ],
 "metadata": {
  "kernelspec": {
   "display_name": "Python 3",
   "language": "python",
   "name": "python3"
  },
  "language_info": {
   "codemirror_mode": {
    "name": "ipython",
    "version": 3
   },
   "file_extension": ".py",
   "mimetype": "text/x-python",
   "name": "python",
   "nbconvert_exporter": "python",
   "pygments_lexer": "ipython3",
   "version": "3.7.6"
  }
 },
 "nbformat": 4,
 "nbformat_minor": 4
}
