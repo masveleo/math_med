{
 "cells": [
  {
   "cell_type": "code",
   "execution_count": 1,
   "metadata": {},
   "outputs": [],
   "source": [
    "# Вопросы:\n",
    "#   1. scoring - как работает, как происходит сравнение двух результатов?\n",
    "#                Что означает, скажем, такой результат:\n",
    "#\n",
    "#    - genes_all\n",
    "#      {'rf__max_depth': 8, 'rf__min_samples_leaf': 3, 'rf__n_estimators': 200}\n",
    "#      {'AUC': 0.6956898656898656, 'Balanced Accuracy': 0.6292735042735041, 'Sensivity': 0.41777777777777786, 'Specificity': 0.8407692307692308}\n",
    "#\n",
    "#    - genes_all\n",
    "#      {'rf__max_depth': 8, 'rf__min_samples_leaf': 11, 'rf__n_estimators': 200}\n",
    "#      {'AUC': 0.6942796092796091, 'Balanced Accuracy': 0.6266178266178266, 'Sensivity': 0.5144444444444445, 'Specificity': 0.7387912087912089}\n",
    "#\n",
    "#    - [\"CDK1\", \"FOXM1\", \"LRIG2\", \"PLK1\", \"RACGAP1\", \"RRM2\", \"TMPO\"]\n",
    "#      {'SVM__C': 181.01933598375618}\n",
    "#      {'AUC': 0.7315201465201464, 'Balanced Accuracy': 0.6841849816849818, 'Sensivity': 0.6366666666666666, 'Specificity': 0.7317032967032968}\n",
    "#\n",
    "#    - ['CDK1', 'FOXM1', 'PLK1', 'RACGAP1', 'RRM2', 'TMPO']\n",
    "#      {'SVM__C': 10.079368399158989}\n",
    "#      {'AUC': 0.7411355311355311, 'Balanced Accuracy': 0.6983943833943833, 'Sensivity': 0.6377777777777777, 'Specificity': 0.7590109890109891}\n",
    "#\n",
    "#    - Reference (SVM): \n",
    "#      {'SVM__C': 16.0}\n",
    "#      {'AUC': 0.721019536019536, 'Balanced Accuracy': 0.673397435897436, 'Sensivity': 0.6233333333333334, 'Specificity': 0.7234615384615385}\n",
    "#\n",
    "#   2. Как именно вычисляется AUC? (свободный член -inf; +inf)\n",
    "#   3. Насколько надежна проверка RepeatedStratifiedKFold?   n_repeats > 100, std(scoring)\n",
    "#      Нужно ли подвергать ее сомнению? \n",
    "#      Нужно ли как-то разбивать данные по группам?\n",
    "#   4. Важны ли матожидания экспрессий с биологической точки зрения? (scaler)\n",
    "#   5. Является ли набор TCGA.tsv однородным? (ответ: да)"
   ]
  },
  {
   "cell_type": "code",
   "execution_count": 2,
   "metadata": {},
   "outputs": [],
   "source": [
    "import pandas as pd\n",
    "import numpy as np\n",
    "\n",
    "from sklearn.model_selection import *\n",
    "from sklearn.metrics import *\n",
    "from sklearn.preprocessing import *\n",
    "\n",
    "from sklearn.pipeline import Pipeline\n",
    "from sklearn.svm import SVC, LinearSVC\n",
    "\n",
    "from sklearn.tree  import DecisionTreeClassifier\n",
    "from sklearn.ensemble import RandomForestClassifier"
   ]
  },
  {
   "cell_type": "code",
   "execution_count": 3,
   "metadata": {},
   "outputs": [],
   "source": [
    "# helper function - true-positive rate \n",
    "def TPR(y_true, y_pred):\n",
    "    M = confusion_matrix(y_true, y_pred)\n",
    "    TN, FP, FN, TP = M[0, 0], M[0, 1], M[1, 0], M[1, 1]\n",
    "    return TP / (TP + FN)\n",
    "\n",
    "# helper function - true-negative rate \n",
    "def TNR(y_true, y_pred):\n",
    "    M = confusion_matrix(y_true, y_pred)\n",
    "    TN, FP, FN, TP = M[0, 0], M[0, 1], M[1, 0], M[1, 1]\n",
    "    return TN / (TN + FP)\n",
    "\n",
    "# scoring values\n",
    "scoring = {\n",
    "    \"AUC\": \"roc_auc\",\n",
    "    \"Balanced Accuracy\": \"balanced_accuracy\",\n",
    "    \"Sensivity\": make_scorer(TPR),\n",
    "    \"Specificity\": make_scorer(TNR),\n",
    "}"
   ]
  },
  {
   "cell_type": "code",
   "execution_count": 34,
   "metadata": {},
   "outputs": [
    {
     "name": "stdout",
     "output_type": "stream",
     "text": [
      "df shape = (111, 13519)\n",
      "\n",
      "                 MT-CO3     MT-CO2     MT-CO1     MT-ND4    MT-ATP6  \\\n",
      "TCGA-D8-A73W  13.824123  13.617516  14.068893  13.513785  12.975990   \n",
      "TCGA-A2-A0YC  14.386709  14.625298  14.615428  14.438262  13.695031   \n",
      "TCGA-AR-A0TQ  13.960474  14.506593  14.111794  13.807234  14.026509   \n",
      "TCGA-AO-A0JA  14.520858  13.904127  14.512907  13.672500  13.199189   \n",
      "TCGA-AO-A126  15.117703  14.213736  14.853187  14.641762  14.285272   \n",
      "TCGA-E2-A10A  13.602740  13.402322  13.291597  13.395304  13.099844   \n",
      "TCGA-BH-A0BS  14.139921  13.633630  13.633195  13.752012  13.289521   \n",
      "TCGA-AR-A0TT  13.485207  12.987190  13.374185  12.868913  12.921818   \n",
      "TCGA-GM-A2DK  15.490217  15.261979  15.562230  15.641576  14.943568   \n",
      "TCGA-B6-A0I8  14.864715  15.159636  15.170086  14.501650  14.325427   \n",
      "\n",
      "                MT-RNR2     MT-CYB     MT-ND1     MT-ND3     MT-ND2  ...  \\\n",
      "TCGA-D8-A73W  13.648528  12.942293  13.155674  12.528400  12.607828  ...   \n",
      "TCGA-A2-A0YC  14.356808  13.094957  13.287214  13.046600  13.142747  ...   \n",
      "TCGA-AR-A0TQ  13.121298  13.603551  12.893735  12.528283  13.000594  ...   \n",
      "TCGA-AO-A0JA  13.850555  13.463213  13.155814  12.989907  13.242887  ...   \n",
      "TCGA-AO-A126  13.923546  14.222415  13.971827  14.133939  14.062888  ...   \n",
      "TCGA-E2-A10A  12.674983  12.990663  13.079945  12.934961  12.700850  ...   \n",
      "TCGA-BH-A0BS  13.143081  13.531532  13.222909  13.693814  13.486200  ...   \n",
      "TCGA-AR-A0TT  12.247090  12.390673  12.817187  12.079412  11.923941  ...   \n",
      "TCGA-GM-A2DK  14.500748  14.842341  14.420963  14.384569  14.342895  ...   \n",
      "TCGA-B6-A0I8  14.941371  14.074685  13.435772  13.451025  13.407306  ...   \n",
      "\n",
      "              hsa-miR-431-5p  hsa-miR-188-5p  hsa-miR-3917  hsa-miR-129-5p  \\\n",
      "TCGA-D8-A73W        1.828233        0.422378      0.511132        1.239119   \n",
      "TCGA-A2-A0YC        0.877462        0.877462      0.877462        1.419152   \n",
      "TCGA-AR-A0TQ        1.355710        0.000000      0.603828        0.000000   \n",
      "TCGA-AO-A0JA        0.631031        1.403821      1.068563        0.000000   \n",
      "TCGA-AO-A126        0.990158        0.578408      0.578408        0.990158   \n",
      "TCGA-E2-A10A        0.963239        0.707632      0.396774        0.000000   \n",
      "TCGA-BH-A0BS        0.000000        0.761307      1.452892        3.599365   \n",
      "TCGA-AR-A0TT        0.707526        1.180150      1.535558        1.535558   \n",
      "TCGA-GM-A2DK        2.105495        1.018071      1.661899        0.541662   \n",
      "TCGA-B6-A0I8        0.875413        0.000000      0.000000        0.875413   \n",
      "\n",
      "              hsa-miR-548v  hsa-miR-192-3p  hsa-miR-134-3p  hsa-miR-551b-3p  \\\n",
      "TCGA-D8-A73W      0.887789        0.748694        1.014647         0.511134   \n",
      "TCGA-A2-A0YC      0.000000        0.000000        1.419152         0.877462   \n",
      "TCGA-AR-A0TQ      2.366798        0.603828        1.355711         1.355711   \n",
      "TCGA-AO-A0JA      0.631031        0.631031        1.403821         1.068563   \n",
      "TCGA-AO-A126      0.578408        1.793275        1.985212         0.578408   \n",
      "TCGA-E2-A10A      0.396774        1.820683        1.180301         0.963239   \n",
      "TCGA-BH-A0BS      0.761307        0.430299        1.779296         2.370206   \n",
      "TCGA-AR-A0TT      1.180150        0.707526        1.180150         1.180150   \n",
      "TCGA-GM-A2DK      0.650361        0.650361        0.296104         0.934552   \n",
      "TCGA-B6-A0I8      2.370909        1.625895        1.416337         1.808839   \n",
      "\n",
      "              hsa-miR-20b-3p  Class  \n",
      "TCGA-D8-A73W        0.327804      1  \n",
      "TCGA-A2-A0YC        1.812056      1  \n",
      "TCGA-AR-A0TQ        1.355710      0  \n",
      "TCGA-AO-A0JA        2.569988      1  \n",
      "TCGA-AO-A126        0.990158      1  \n",
      "TCGA-E2-A10A        0.963239      1  \n",
      "TCGA-BH-A0BS        0.761307      0  \n",
      "TCGA-AR-A0TT        0.707526      0  \n",
      "TCGA-GM-A2DK        0.000000      0  \n",
      "TCGA-B6-A0I8        1.171079      1  \n",
      "\n",
      "[10 rows x 13519 columns]\n"
     ]
    }
   ],
   "source": [
    "# Load TCGA RNA-seq data\n",
    "df = pd.read_csv(\"../../data/breast_cancer/TCGA.tsv\", sep=\"\\t\", index_col=0)\n",
    "print((\"df shape = {}\\n\").format( df.shape) )\n",
    "\n",
    "print( df[0:10])\n"
   ]
  },
  {
   "cell_type": "code",
   "execution_count": 37,
   "metadata": {},
   "outputs": [],
   "source": [
    "# Take gene subset (or all genes)\n",
    "\n",
    "#genes = [\"CDK1\", \"FOXM1\", \"LRIG2\", \"MSH2\", \"PLK1\", \"RACGAP1\", \"RRM2\", \"TMPO\"]\n",
    "\n",
    "# other variants\n",
    "genes = [\"CDK1\", \"FOXM1\", \"LRIG2\", \"PLK1\", \"RACGAP1\", \"RRM2\", \"TMPO\"]\n",
    "#genes = [\"SHOX2\", \"ETNPPL\", \"FGF14\"]\n",
    "\n",
    "#genes =  list( df.columns.values)"
   ]
  },
  {
   "cell_type": "code",
   "execution_count": 38,
   "metadata": {},
   "outputs": [],
   "source": [
    "# Form data\n",
    "X = df[genes].to_numpy()\n",
    "y = df[\"Class\"].to_numpy()"
   ]
  },
  {
   "cell_type": "code",
   "execution_count": 31,
   "metadata": {},
   "outputs": [],
   "source": [
    "# classification algo and params_for_opt\n",
    "#--------------------------------------------------\n",
    "\n",
    "# 1. SVM\n",
    "ml_algo = (\"SVM\", SVC(kernel=\"linear\", class_weight=\"balanced\"))\n",
    "opt_params = {\"SVM__C\": np.logspace(-10, 10, 19, base=2)}\n",
    "\n",
    "# 2. Random Forest\n",
    "#ml_algo = (\"rf\", RandomForestClassifier( class_weight=\"balanced\" ))\n",
    "#opt_params = {\n",
    "#    \"rf__n_estimators\": [200, 400, 600],\n",
    "#    \"rf__max_depth\": [10, 20],\n",
    "#    \"rf__min_samples_leaf\": [7]\n",
    "#}\n",
    "\n",
    "# 3. Decision Tree\n",
    "#ml_algo = (\"dt\", DecisionTreeClassifier( class_weight=\"balanced\" ))\n",
    "#opt_params = {\n",
    "#    \"dt__max_depth\": [5, 10, 20]\n",
    "#}"
   ]
  },
  {
   "cell_type": "code",
   "execution_count": 32,
   "metadata": {},
   "outputs": [],
   "source": [
    "# Establish a classification pipeline\n",
    "scaler = StandardScaler()\n",
    "classifier = Pipeline([\n",
    "   (\"scaler\", scaler),\n",
    "   ml_algo ])"
   ]
  },
  {
   "cell_type": "code",
   "execution_count": 33,
   "metadata": {},
   "outputs": [
    {
     "name": "stdout",
     "output_type": "stream",
     "text": [
      "['CDK1', 'FOXM1', 'PLK1', 'RACGAP1', 'RRM2', 'TMPO']\n",
      "{'SVM__C': 10.079368399158989}\n",
      "{'AUC': 0.7411355311355311, 'Balanced Accuracy': 0.6983943833943833, 'Sensivity': 0.6377777777777777, 'Specificity': 0.7590109890109891}\n"
     ]
    }
   ],
   "source": [
    "# Optimization cylce\n",
    "splitter = RepeatedStratifiedKFold(n_splits=5, n_repeats=20)\n",
    "\n",
    "CV = GridSearchCV( \n",
    "    classifier,\n",
    "    opt_params,\n",
    "    scoring=scoring,\n",
    "    cv=splitter,\n",
    "    refit=False)\n",
    "CV.fit(X, y)\n",
    "\n",
    "# Infer best parameter\n",
    "mean_test_scoring_values = {s: CV.cv_results_[\"mean_test_\" + s] for s in scoring}\n",
    "max_BA_index = np.argmax(mean_test_scoring_values[\"Balanced Accuracy\"])\n",
    "best_scores = {s: mean_test_scoring_values[s][max_BA_index] for s in scoring}\n",
    "\n",
    "# print best model parameters and score\n",
    "print( genes )\n",
    "print( CV.cv_results_[\"params\"][max_BA_index] )\n",
    "print({s: mean_test_scoring_values[s][max_BA_index] for s in scoring})"
   ]
  }
 ],
 "metadata": {
  "kernelspec": {
   "display_name": "Python 3",
   "language": "python",
   "name": "python3"
  },
  "language_info": {
   "codemirror_mode": {
    "name": "ipython",
    "version": 3
   },
   "file_extension": ".py",
   "mimetype": "text/x-python",
   "name": "python",
   "nbconvert_exporter": "python",
   "pygments_lexer": "ipython3",
   "version": "3.7.6"
  }
 },
 "nbformat": 4,
 "nbformat_minor": 4
}
