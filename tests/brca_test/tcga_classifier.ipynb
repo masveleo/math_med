{
 "cells": [
  {
   "cell_type": "code",
   "execution_count": 44,
   "metadata": {},
   "outputs": [],
   "source": [
    "import pandas as pd\n",
    "import numpy as np\n",
    "\n",
    "from sklearn.model_selection import *\n",
    "from sklearn.metrics import *\n",
    "from sklearn.preprocessing import *\n",
    "\n",
    "from sklearn.pipeline import Pipeline\n",
    "from sklearn.svm import SVC, LinearSVC\n",
    "\n",
    "from sklearn.tree  import DecisionTreeClassifier\n",
    "from sklearn.ensemble import RandomForestClassifier"
   ]
  },
  {
   "cell_type": "code",
   "execution_count": 91,
   "metadata": {},
   "outputs": [],
   "source": [
    "# helper function - true-positive rate \n",
    "def TPR(y_true, y_pred):\n",
    "    M = confusion_matrix(y_true, y_pred)\n",
    "    TN, FP, FN, TP = M[0, 0], M[0, 1], M[1, 0], M[1, 1]\n",
    "    return TP / (TP + FN)\n",
    "\n",
    "# helper function - true-negative rate \n",
    "def TNR(y_true, y_pred):\n",
    "    M = confusion_matrix(y_true, y_pred)\n",
    "    TN, FP, FN, TP = M[0, 0], M[0, 1], M[1, 0], M[1, 1]\n",
    "    return TN / (TN + FP)\n",
    "\n",
    "# scoring values\n",
    "# TODO(Sokolov): разобраться в интерпретации этих величин\n",
    "scoring = {\n",
    "    \"AUC\": \"roc_auc\",\n",
    "    \"Balanced Accuracy\": \"balanced_accuracy\",\n",
    "    \"Sensivity\": make_scorer(TPR),\n",
    "    \"Specificity\": make_scorer(TNR),\n",
    "}"
   ]
  },
  {
   "cell_type": "code",
   "execution_count": 92,
   "metadata": {},
   "outputs": [
    {
     "name": "stdout",
     "output_type": "stream",
     "text": [
      "                 MT-CO3     MT-CO2     MT-CO1     MT-ND4    MT-ATP6  \\\n",
      "TCGA-D8-A73W  13.824123  13.617516  14.068893  13.513785  12.975990   \n",
      "TCGA-A2-A0YC  14.386709  14.625298  14.615428  14.438262  13.695031   \n",
      "\n",
      "                MT-RNR2     MT-CYB     MT-ND1   MT-ND3     MT-ND2  ...  \\\n",
      "TCGA-D8-A73W  13.648528  12.942293  13.155674  12.5284  12.607828  ...   \n",
      "TCGA-A2-A0YC  14.356808  13.094957  13.287214  13.0466  13.142747  ...   \n",
      "\n",
      "              hsa-miR-431-5p  hsa-miR-188-5p  hsa-miR-3917  hsa-miR-129-5p  \\\n",
      "TCGA-D8-A73W        1.828233        0.422378      0.511132        1.239119   \n",
      "TCGA-A2-A0YC        0.877462        0.877462      0.877462        1.419152   \n",
      "\n",
      "              hsa-miR-548v  hsa-miR-192-3p  hsa-miR-134-3p  hsa-miR-551b-3p  \\\n",
      "TCGA-D8-A73W      0.887789        0.748694        1.014647         0.511134   \n",
      "TCGA-A2-A0YC      0.000000        0.000000        1.419152         0.877462   \n",
      "\n",
      "              hsa-miR-20b-3p  Class  \n",
      "TCGA-D8-A73W        0.327804      1  \n",
      "TCGA-A2-A0YC        1.812056      1  \n",
      "\n",
      "[2 rows x 13519 columns]\n"
     ]
    }
   ],
   "source": [
    "# Load TCGA RNA-seq data\n",
    "df = pd.read_csv(\"../../data/breast_cancer/TCGA.tsv\", sep=\"\\t\", index_col=0)\n",
    "print(df[0:2])"
   ]
  },
  {
   "cell_type": "code",
   "execution_count": 93,
   "metadata": {},
   "outputs": [],
   "source": [
    "# Take gene subset (or all genes)\n",
    "\n",
    "#genes = [\"CDK1\", \"FOXM1\", \"LRIG2\", \"MSH2\", \"PLK1\", \"RACGAP1\", \"RRM2\", \"TMPO\"]\n",
    "genes =  list( df.columns.values)"
   ]
  },
  {
   "cell_type": "code",
   "execution_count": 94,
   "metadata": {},
   "outputs": [],
   "source": [
    "# Form data\n",
    "X = df[genes].to_numpy()\n",
    "y = df[\"Class\"].to_numpy()"
   ]
  },
  {
   "cell_type": "code",
   "execution_count": 95,
   "metadata": {},
   "outputs": [],
   "source": [
    "# classification algo and params_for_opt\n",
    "#--------------------------------------------------\n",
    "\n",
    "# 1. SVM\n",
    "#ml_algo = (\"SVM\", SVC(kernel=\"linear\", class_weight=\"balanced\"))\n",
    "#opt_params = {\"SVM__C\": np.logspace(-4, 4, 9, base=4)}\n",
    "\n",
    "# 2. Random Forest\n",
    "#ml_algo = (\"rf\", RandomForestClassifier( class_weight=\"balanced\" ))\n",
    "ml_algo = (\"rf\", RandomForestClassifier() )\n",
    "opt_params = {\n",
    "    \"rf__n_estimators\": [200],\n",
    "    \"rf__max_depth\": [25, 30]\n",
    "}\n",
    "\n",
    "# 3. Decision Tree\n",
    "#ml_algo = (\"dt\", DecisionTreeClassifier( class_weight=\"balanced\" ))\n",
    "#opt_params = {\n",
    "#    \"dt__max_depth\": [5, 10, 20]\n",
    "#}"
   ]
  },
  {
   "cell_type": "code",
   "execution_count": 96,
   "metadata": {},
   "outputs": [],
   "source": [
    "# Establish a classification pipeline\n",
    "scaler = StandardScaler()\n",
    "classifier = Pipeline([\n",
    "    (\"scaler\", scaler),\n",
    "    ml_algo ])"
   ]
  },
  {
   "cell_type": "code",
   "execution_count": null,
   "metadata": {},
   "outputs": [],
   "source": [
    "# Optimization cylce\n",
    "splitter = RepeatedStratifiedKFold(n_splits=5, n_repeats=20)\n",
    "\n",
    "CV = GridSearchCV( \n",
    "    classifier,\n",
    "    opt_params,\n",
    "    scoring=scoring,\n",
    "    cv=splitter,\n",
    "    refit=False)\n",
    "CV.fit(X, y)\n",
    "\n",
    "# Infer best parameter\n",
    "mean_test_scoring_values = {s: CV.cv_results_[\"mean_test_\" + s] for s in scoring}\n",
    "max_BA_index = np.argmax(mean_test_scoring_values[\"Balanced Accuracy\"])\n",
    "best_scores = {s: mean_test_scoring_values[s][max_BA_index] for s in scoring}\n",
    "\n",
    "print({s: mean_test_scoring_values[s][max_BA_index] for s in scoring})\n",
    "print(CV.cv_results_[\"params\"][max_BA_index])"
   ]
  }
 ],
 "metadata": {
  "kernelspec": {
   "display_name": "Python 3",
   "language": "python",
   "name": "python3"
  },
  "language_info": {
   "codemirror_mode": {
    "name": "ipython",
    "version": 3
   },
   "file_extension": ".py",
   "mimetype": "text/x-python",
   "name": "python",
   "nbconvert_exporter": "python",
   "pygments_lexer": "ipython3",
   "version": "3.7.6"
  }
 },
 "nbformat": 4,
 "nbformat_minor": 4
}
